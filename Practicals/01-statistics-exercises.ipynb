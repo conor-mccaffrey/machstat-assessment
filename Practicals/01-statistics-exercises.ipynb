{
 "cells": [
  {
   "cell_type": "markdown",
   "id": "07db7f47",
   "metadata": {},
   "source": [
    "\n",
    "<h3 style=\"color: #001a79;\">Exercise 1.1</h3>\n",
    "\n",
    "<hr style=\"border-top: 1px solid #001a79;\" />\n",
    "\n",
    "\n",
    "The above gives about a 1.5% chance of randomly selecting the correct cups. Calculate the minimum number of cups of tea required to ensure the probability of randomly selecting the correct cups is less than or equal to 1%.\n",
    "\n",
    "*Bonus:* How many would be required if you were to let the taster get one cup wrong while maintaining the 1% threshold?\n"
   ]
  },
  {
   "cell_type": "markdown",
   "id": "8897b5e4",
   "metadata": {},
   "source": [
    " Following adapted from this link : https://stackoverflow.com/a/4941932"
   ]
  },
  {
   "cell_type": "code",
   "execution_count": 3,
   "id": "e54a7efe",
   "metadata": {},
   "outputs": [],
   "source": [
    "# Math module import\n",
    "import math"
   ]
  },
  {
   "cell_type": "code",
   "execution_count": 4,
   "id": "369534ca",
   "metadata": {},
   "outputs": [
    {
     "data": {
      "text/plain": [
       "70"
      ]
     },
     "execution_count": 4,
     "metadata": {},
     "output_type": "execute_result"
    }
   ],
   "source": [
    "# Number of ways of selecting 4 cups from 8\n",
    "math.comb(8,4)\n"
   ]
  },
  {
   "cell_type": "code",
   "execution_count": 6,
   "id": "50e16349",
   "metadata": {},
   "outputs": [
    {
     "data": {
      "text/plain": [
       "252"
      ]
     },
     "execution_count": 6,
     "metadata": {},
     "output_type": "execute_result"
    }
   ],
   "source": [
    "# Number of ways of selecting 5 cups from 10\n",
    "math.comb(10,5)"
   ]
  },
  {
   "cell_type": "code",
   "execution_count": 10,
   "id": "4af4a40a",
   "metadata": {},
   "outputs": [
    {
     "data": {
      "text/plain": [
       "0.003968253968253968"
      ]
     },
     "execution_count": 10,
     "metadata": {},
     "output_type": "execute_result"
    }
   ],
   "source": [
    "# Probability of randomly selecting 5 cups is:\n",
    "1.0 / math.comb(10,5)"
   ]
  },
  {
   "cell_type": "markdown",
   "id": "d920f7f2",
   "metadata": {},
   "source": [
    "So, if experiment was done with 10 cups total, and 5 with milk in first and 5 with tea in first then the chance of selecting correctly randomly is much less."
   ]
  },
  {
   "cell_type": "markdown",
   "id": "f35abb17",
   "metadata": {},
   "source": [
    "Of course, we could design experiment to have 9 cups total, with 4 milk in first and 5 tea in first - or vice versa. "
   ]
  },
  {
   "cell_type": "code",
   "execution_count": 11,
   "id": "bd2d3dc1",
   "metadata": {},
   "outputs": [
    {
     "data": {
      "text/plain": [
       "126"
      ]
     },
     "execution_count": 11,
     "metadata": {},
     "output_type": "execute_result"
    }
   ],
   "source": [
    "# Number of ways of selecting 4 cups from 9\n",
    "math.comb(9,4)"
   ]
  },
  {
   "cell_type": "code",
   "execution_count": 12,
   "id": "16878dfb",
   "metadata": {},
   "outputs": [
    {
     "data": {
      "text/plain": [
       "0.007936507936507936"
      ]
     },
     "execution_count": 12,
     "metadata": {},
     "output_type": "execute_result"
    }
   ],
   "source": [
    "# Probability of randomly selecting 4 cups is:\n",
    "1.0 / math.comb(9,5)"
   ]
  },
  {
   "cell_type": "markdown",
   "id": "fd7fb2be",
   "metadata": {},
   "source": [
    "This is less than 1%"
   ]
  },
  {
   "cell_type": "code",
   "execution_count": 14,
   "id": "1f214b1c",
   "metadata": {},
   "outputs": [
    {
     "data": {
      "text/plain": [
       "126"
      ]
     },
     "execution_count": 14,
     "metadata": {},
     "output_type": "execute_result"
    }
   ],
   "source": [
    "# Note the number of ways of selecting 5 cups from 9:\n",
    "math.comb(9,5)"
   ]
  },
  {
   "cell_type": "code",
   "execution_count": null,
   "id": "e68838a4",
   "metadata": {},
   "outputs": [],
   "source": []
  },
  {
   "cell_type": "code",
   "execution_count": null,
   "id": "1399d3a9",
   "metadata": {},
   "outputs": [],
   "source": []
  },
  {
   "cell_type": "markdown",
   "id": "fd42d727",
   "metadata": {},
   "source": [
    "*Bonus:* How many would be required if you were to let the taster get one cup wrong while maintaining the 1% threshold?\n",
    "\n",
    "    "
   ]
  },
  {
   "cell_type": "code",
   "execution_count": null,
   "id": "662f194b",
   "metadata": {},
   "outputs": [],
   "source": []
  },
  {
   "cell_type": "markdown",
   "id": "e189278e",
   "metadata": {},
   "source": [
    "<h3 style=\"color: #001a79;\">Exercise 1.2</h3>\n",
    "\n",
    "<hr style=\"border-top: 1px solid #001a79;\" />\n",
    "\n",
    "\n",
    "Use <a href=\"https://docs.scipy.org/doc/scipy/reference/generated/scipy.stats.fisher_exact.html\" style=\"color: #ff791e\">scipy's version of Fisher's exact test</a> to simulate the Lady Tasting Tea problem."
   ]
  },
  {
   "cell_type": "code",
   "execution_count": 63,
   "id": "279276f7",
   "metadata": {},
   "outputs": [],
   "source": [
    "# Statistical import\n",
    "import scipy.stats as ss\n",
    "import numpy as np"
   ]
  },
  {
   "cell_type": "code",
   "execution_count": 18,
   "id": "1cea0894",
   "metadata": {},
   "outputs": [
    {
     "data": {
      "text/plain": [
       "<function scipy.stats.stats.fisher_exact(table, alternative='two-sided')>"
      ]
     },
     "execution_count": 18,
     "metadata": {},
     "output_type": "execute_result"
    }
   ],
   "source": [
    "ss.fisher_exact"
   ]
  },
  {
   "cell_type": "code",
   "execution_count": 66,
   "id": "b81ad272",
   "metadata": {},
   "outputs": [
    {
     "data": {
      "text/plain": [
       "0.014285714285714268"
      ]
     },
     "execution_count": 66,
     "metadata": {},
     "output_type": "execute_result"
    }
   ],
   "source": [
    "#oddsratio, pvalue =ss.fisher_exact([[4, 0], [0, 4]])\n",
    "# The one-sided p-value for alternative='greater' is the probability that a random table has x >= a,\n",
    "table = np.array([[4, 0], [0, 4]])\n",
    "oddsr, p = ss.fisher_exact(table, alternative='greater')\n",
    "p\n"
   ]
  },
  {
   "cell_type": "markdown",
   "id": "4cdd4bfe",
   "metadata": {},
   "source": [
    "Target: 0.014285714285714285\n"
   ]
  },
  {
   "cell_type": "code",
   "execution_count": 22,
   "id": "035256bc",
   "metadata": {},
   "outputs": [
    {
     "data": {
      "text/plain": [
       "0.02857142857142857"
      ]
     },
     "execution_count": 22,
     "metadata": {},
     "output_type": "execute_result"
    }
   ],
   "source": [
    "# multiply target by 2 \n",
    "0.014285714285714285 *2"
   ]
  },
  {
   "cell_type": "code",
   "execution_count": 26,
   "id": "3153728a",
   "metadata": {},
   "outputs": [
    {
     "data": {
      "text/plain": [
       "0.015873015873015858"
      ]
     },
     "execution_count": 26,
     "metadata": {},
     "output_type": "execute_result"
    }
   ],
   "source": []
  },
  {
   "cell_type": "code",
   "execution_count": null,
   "id": "404e34aa",
   "metadata": {},
   "outputs": [],
   "source": []
  },
  {
   "cell_type": "markdown",
   "id": "1f6fc19f",
   "metadata": {},
   "source": [
    "<h3 style=\"color: #001a79;\">Exercise 2.1</h3>\n",
    "\n",
    "<hr style=\"border-top: 1px solid #001a79;\" />\n",
    "\n",
    "Add info for the following: https://docs.scipy.org/doc/scipy/reference/generated/scipy.stats.ttest_ind.html\n",
    "\n",
    "T-test: This is a test for the null hypothesis that 2 independent samples have identical average (expected) values. This test assumes that the populations have identical variances by default.\n",
    "The t-test can be used, for example, to determine if the means of two sets of data are significantly different from each other.\n",
    "A null hypothesis is a type of statistical hypothesis that proposes that no statistical significance exists in a set of given observations.\n",
    "A p-value larger than a chosen threshold (e.g. 5% or 1%) indicates that our observation is not so unlikely to have occurred by chance.\n",
    "A p-value less than 0.05 (typically ≤ 0.05) is statistically significant."
   ]
  },
  {
   "cell_type": "code",
   "execution_count": 3,
   "id": "6fc41c7e",
   "metadata": {},
   "outputs": [],
   "source": [
    "from scipy import stats\n",
    "import numpy as np\n",
    "\n",
    "rng = np.random.default_rng()"
   ]
  },
  {
   "cell_type": "markdown",
   "id": "2afab5a7",
   "metadata": {},
   "source": [
    "Testing samples with the exact same means"
   ]
  },
  {
   "cell_type": "code",
   "execution_count": 14,
   "id": "c0b83e64",
   "metadata": {},
   "outputs": [
    {
     "data": {
      "text/plain": [
       "Ttest_indResult(statistic=-0.09173574446694908, pvalue=0.9269264348490781)"
      ]
     },
     "execution_count": 14,
     "metadata": {},
     "output_type": "execute_result"
    }
   ],
   "source": [
    "rvs1 = stats.norm.rvs(loc=5, scale=10, size=500, random_state=rng) # loc = mean in the normal distribution , scale = standard deviation , and using random number generator\n",
    "rvs2 = stats.norm.rvs(loc=5, scale=10, size=500, random_state=rng) # rng = peseudo-random number generator. Basically not exactly random \n",
    "stats.ttest_ind(rvs1, rvs2)\n",
    "stats.ttest_ind(rvs1, rvs2, equal_var=False) # perform a standard independent 2 sample test that assumes equal population variances. If False, perform Welch’s t-test, which does not assume equal population variance"
   ]
  },
  {
   "cell_type": "markdown",
   "id": "bba131e0",
   "metadata": {},
   "source": [
    "A larger t-value shows that the difference between group means is greater than the pooled standard error, indicating a more significant difference between the groups. Note that it’s negative; this is fine! In most cases, we only care about the absolute value of the difference, or the distance from 0. It doesn’t matter which direction."
   ]
  },
  {
   "cell_type": "markdown",
   "id": "3fd118b1",
   "metadata": {},
   "source": [
    "ttest_ind underestimates p for unequal variances:\n",
    "*The unequal variance t-test is an independent t-test and is used when the number of samples in each group is different, and the variance of the two data sets is also different. This test is also called Welch's t-test.*"
   ]
  },
  {
   "cell_type": "code",
   "execution_count": 15,
   "id": "48d0d541",
   "metadata": {},
   "outputs": [
    {
     "data": {
      "text/plain": [
       "Ttest_indResult(statistic=-1.2793338994319923, pvalue=0.20117420544915746)"
      ]
     },
     "execution_count": 15,
     "metadata": {},
     "output_type": "execute_result"
    }
   ],
   "source": [
    "rvs3 = stats.norm.rvs(loc=5, scale=20, size=500, random_state=rng)\n",
    "stats.ttest_ind(rvs1, rvs3)\n",
    "stats.ttest_ind(rvs1, rvs3, equal_var=False)\n"
   ]
  },
  {
   "cell_type": "markdown",
   "id": "60b6fb7e",
   "metadata": {},
   "source": [
    "When n1 != n2 (size of the sample set), the equal variance t-statistic is no longer equal to the unequal variance t-statistic:\n",
    "\n"
   ]
  },
  {
   "cell_type": "code",
   "execution_count": 26,
   "id": "18674094",
   "metadata": {},
   "outputs": [
    {
     "data": {
      "text/plain": [
       "Ttest_indResult(statistic=-1.9725573881035823, pvalue=0.049006252874430674)"
      ]
     },
     "execution_count": 26,
     "metadata": {},
     "output_type": "execute_result"
    }
   ],
   "source": [
    "rvs4 = stats.norm.rvs(loc=5, scale=20, size=100, random_state=rng) # size of rsv4 is 1/4 that of declared variables\n",
    "stats.ttest_ind(rvs1, rvs4)"
   ]
  },
  {
   "cell_type": "markdown",
   "id": "ea5c289d",
   "metadata": {},
   "source": [
    "Now setting equal variance to False:"
   ]
  },
  {
   "cell_type": "code",
   "execution_count": 17,
   "id": "e1e64e9a",
   "metadata": {},
   "outputs": [
    {
     "data": {
      "text/plain": [
       "Ttest_indResult(statistic=0.25278032129039985, pvalue=0.8009125854575454)"
      ]
     },
     "execution_count": 17,
     "metadata": {},
     "output_type": "execute_result"
    }
   ],
   "source": [
    "stats.ttest_ind(rvs1, rvs4, equal_var=False)\n"
   ]
  },
  {
   "cell_type": "markdown",
   "id": "3fb26969",
   "metadata": {},
   "source": [
    "T-test with different means, variance, and n:\n",
    "\n"
   ]
  },
  {
   "cell_type": "code",
   "execution_count": 27,
   "id": "fbb630bd",
   "metadata": {},
   "outputs": [
    {
     "data": {
      "text/plain": [
       "Ttest_indResult(statistic=-4.7579432101255605, pvalue=2.454779343440806e-06)"
      ]
     },
     "execution_count": 27,
     "metadata": {},
     "output_type": "execute_result"
    }
   ],
   "source": [
    "rvs5 = stats.norm.rvs(loc=8, scale=20, size=100, random_state=rng)\n",
    "stats.ttest_ind(rvs1, rvs5)"
   ]
  },
  {
   "cell_type": "markdown",
   "id": "71f8bef1",
   "metadata": {},
   "source": [
    "Now setting equal variance to False"
   ]
  },
  {
   "cell_type": "code",
   "execution_count": 28,
   "id": "465ed261",
   "metadata": {},
   "outputs": [
    {
     "data": {
      "text/plain": [
       "Ttest_indResult(statistic=-3.277157572462146, pvalue=0.0013989083258070753)"
      ]
     },
     "execution_count": 28,
     "metadata": {},
     "output_type": "execute_result"
    }
   ],
   "source": [
    "stats.ttest_ind(rvs1, rvs5, equal_var=False)"
   ]
  },
  {
   "cell_type": "markdown",
   "id": "fc7220ba",
   "metadata": {},
   "source": [
    "When performing a permutation test, more permutations typically yields more accurate results. Use a np.random.Generator to ensure reproducibility:"
   ]
  },
  {
   "cell_type": "code",
   "execution_count": 39,
   "id": "45a3d090",
   "metadata": {},
   "outputs": [
    {
     "data": {
      "text/plain": [
       "Ttest_indResult(statistic=-4.7579432101255605, pvalue=0.0)"
      ]
     },
     "execution_count": 39,
     "metadata": {},
     "output_type": "execute_result"
    }
   ],
   "source": [
    "stats.ttest_ind(rvs1, rvs5, permutations=10, random_state=rng)\n"
   ]
  },
  {
   "cell_type": "code",
   "execution_count": 40,
   "id": "f8dc00fd",
   "metadata": {},
   "outputs": [],
   "source": [
    "#Take these two samples, one of which has an extreme tail.\n",
    "\n",
    "a = (56, 128.6, 12, 123.8, 64.34, 78, 763.3)\n",
    "b = (1.1, 2.9, 4.2)"
   ]
  },
  {
   "cell_type": "markdown",
   "id": "9ad9e28d",
   "metadata": {},
   "source": [
    "Use the trim keyword to perform a trimmed (Yuen) t-test. For example, using 20% trimming, trim=.2, the test will reduce the impact of one (np.floor(trim *len(a))) element from each tail of sample a. It will have no effect on sample b because np.floor(trim*len(b)) is 0."
   ]
  },
  {
   "cell_type": "code",
   "execution_count": 32,
   "id": "76ed759d",
   "metadata": {},
   "outputs": [
    {
     "data": {
      "text/plain": [
       "Ttest_indResult(statistic=3.4463884028073513, pvalue=0.01369338726499547)"
      ]
     },
     "execution_count": 32,
     "metadata": {},
     "output_type": "execute_result"
    }
   ],
   "source": [
    "stats.ttest_ind(a, b, trim=.2)"
   ]
  },
  {
   "cell_type": "code",
   "execution_count": null,
   "id": "dc076c4b",
   "metadata": {},
   "outputs": [],
   "source": []
  },
  {
   "cell_type": "code",
   "execution_count": null,
   "id": "935bfb59",
   "metadata": {},
   "outputs": [],
   "source": []
  },
  {
   "cell_type": "code",
   "execution_count": null,
   "id": "c442b248",
   "metadata": {},
   "outputs": [],
   "source": []
  },
  {
   "cell_type": "code",
   "execution_count": null,
   "id": "0bdfa5a8",
   "metadata": {},
   "outputs": [],
   "source": []
  },
  {
   "cell_type": "code",
   "execution_count": null,
   "id": "677f3e43",
   "metadata": {},
   "outputs": [],
   "source": []
  },
  {
   "cell_type": "code",
   "execution_count": null,
   "id": "01be873f",
   "metadata": {},
   "outputs": [],
   "source": []
  },
  {
   "cell_type": "code",
   "execution_count": null,
   "id": "affc2bf0",
   "metadata": {},
   "outputs": [],
   "source": []
  },
  {
   "cell_type": "code",
   "execution_count": null,
   "id": "ac01c1ee",
   "metadata": {},
   "outputs": [],
   "source": []
  }
 ],
 "metadata": {
  "kernelspec": {
   "display_name": "Python 3 (ipykernel)",
   "language": "python",
   "name": "python3"
  },
  "language_info": {
   "codemirror_mode": {
    "name": "ipython",
    "version": 3
   },
   "file_extension": ".py",
   "mimetype": "text/x-python",
   "name": "python",
   "nbconvert_exporter": "python",
   "pygments_lexer": "ipython3",
   "version": "3.9.13"
  }
 },
 "nbformat": 4,
 "nbformat_minor": 5
}
